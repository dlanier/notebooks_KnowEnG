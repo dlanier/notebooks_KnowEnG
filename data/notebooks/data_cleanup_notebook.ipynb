{
 "cells": [
  {
   "cell_type": "markdown",
   "metadata": {},
   "source": [
    "<font color=blue>\n",
    "# Data Cleanup Pipeline\n",
    "\n",
    "<font color=orange>\n",
    "### Read the .yml files for run_parameters options.\n",
    "* \n",
    "* [TEMPLATE_data_cleanup.yml](./run_dir/TEMPLATE_data_cleanup.yml)\n",
    "* [TEST_1_data_cleanup.yml](./run_dir/TEST_1_data_cleanup.yml)\n",
    "* [TEST_1_gene_prioritization_pipeline_pearson.yml](./run_dir/TEST_1_gene_prioritization_pipeline_pearson.yml)\n",
    "* [TEST_1_gene_prioritization_pipeline_t_test.yml](./run_dir/TEST_1_gene_prioritization_pipeline_t_test.yml)\n",
    "* [TEST_1_general_clustering_pipeline.yml](./run_dir/TEST_1_general_clustering_pipeline.yml)\n",
    "* [TEST_1_geneset_characterization_pipeline.yml](./run_dir/TEST_1_geneset_characterization_pipeline.yml)\n",
    "* [TEST_1_phenotype_prediction_pipeline.yml](./run_dir/TEST_1_phenotype_prediction_pipeline.yml)\n",
    "* [TEST_1_samples_clustering_pipeline.yml](./run_dir/TEST_1_samples_clustering_pipeline.yml)\n",
    "* [TEST_2_data_cleanup.yml](./run_dir/TEST_2_data_cleanup.yml)\n",
    "* [data_cleanup.yml](./run_dir/data_cleanup.yml)\n",
    "* [pasted_gene_set_conversion.yml](./run_dir/pasted_gene_set_conversion.yml)\n",
    "\n",
    "\n",
    "### For more information and full code listing see:\n",
    "* https://github.com/KnowEnG/Data_Cleanup_Pipeline.git\n",
    "* https://hub.docker.com/r/knowengdev/data_cleanup_pipeline/"
   ]
  },
  {
   "cell_type": "code",
   "execution_count": null,
   "metadata": {},
   "outputs": [],
   "source": [
    "import os\n",
    "import sys\n",
    "\n",
    "import knpackage.toolbox as kn\n",
    "sys.path.insert(1, '../src')\n",
    "import data_cleanup_toolbox as data_cleanup_tbx\n",
    "\n",
    "\"\"\"                         Select a run_parameters .yml file                                       \"\"\"\n",
    "run_directory = os.path.abspath('./run_dir')\n",
    "yaml_file_name = 'TEST_1_data_cleanup.yml'\n",
    "                                   \n",
    "run_parameters = kn.get_run_parameters(run_directory, yaml_file_name)\n",
    "\n",
    "\"\"\"                         Run the method                                                          \"\"\"\n",
    "if run_parameters['pipeline_type'] == 'gene_prioritization_pipeline':\n",
    "    data_cleanup_tbx.run_gene_prioritization_pipeline(run_parameters)\n",
    "elif run_parameters['pipeline_type'] == 'general_clustering_pipeline':\n",
    "    data_cleanup_tbx.run_general_clustering_pipeline(run_parameters)\n",
    "elif run_parameters['pipeline_type'] == 'geneset_characterization_pipeline':\n",
    "    data_cleanup_tbx.run_geneset_characterization_pipeline(run_parameters)\n",
    "elif run_parameters['pipeline_type'] == 'pasted_gene_set_conversion':\n",
    "    data_cleanup_tbx.run_pasted_gene_set_conversion(run_parameters)\n",
    "elif run_parameters['pipeline_type'] == 'phenotype_prediction_pipeline':\n",
    "    data_cleanup_tbx.run_phenotype_prediction_pipeline(run_parameters)\n",
    "elif run_parameters['pipeline_type'] == 'samples_clustering_pipeline':\n",
    "    data_cleanup_tbx.run_samples_clustering_pipeline(run_parameters)"
   ]
  },
  {
   "cell_type": "code",
   "execution_count": null,
   "metadata": {
    "collapsed": true
   },
   "outputs": [],
   "source": []
  }
 ],
 "metadata": {
  "kernelspec": {
   "display_name": "Python 3",
   "language": "python",
   "name": "python3"
  },
  "language_info": {
   "codemirror_mode": {
    "name": "ipython",
    "version": 3
   },
   "file_extension": ".py",
   "mimetype": "text/x-python",
   "name": "python",
   "nbconvert_exporter": "python",
   "pygments_lexer": "ipython3",
   "version": "3.5.3"
  }
 },
 "nbformat": 4,
 "nbformat_minor": 2
}
