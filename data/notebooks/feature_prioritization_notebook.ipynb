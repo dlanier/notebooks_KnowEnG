{
 "cells": [
  {
   "cell_type": "code",
   "execution_count": 3,
   "metadata": {},
   "outputs": [],
   "source": [
    "import os\n",
    "import sys\n",
    "\n",
    "import knpackage.toolbox as kn\n",
    "\n",
    "# import the notebook setup utilities:\n",
    "sys.path.insert(1, '/pipelines/notebooks_KnowEnG/src')\n",
    "from notebooks_KnowEnG import *\n",
    "setup_test_dir(notebook_location=os.getcwd())\n",
    "\n",
    "# define the path locations for the Feature_Prioritization_Pipeline (clone in a terminal if not installed)\n",
    "pipelines_directory = os.path.abspath('/pipelines')\n",
    "\n",
    "feature_prioritization_path = os.path.join(pipelines_directory, 'Feature_Prioritization_Pipeline')\n",
    "src_files_path = os.path.join(feature_prioritization_path, 'src')\n",
    "sys.path.insert(1, src_files_path)\n",
    "import feature_prioritization_toolbox as feature_tbx\n",
    "\n",
    "spreadsheet_files_path = os.path.join(feature_prioritization_path, 'data/spreadsheets')\n",
    "network_files_path = os.path.join(feature_prioritization_path, 'data/networks')\n",
    "run_files_path = os.path.join(feature_prioritization_path, 'data/run_files')\n",
    "\n",
    "# define the path locations for running and results     WILL BE RUTHLESSLY AND CRUELLY OVERWRITTEN WITHOUT IT PITY\n",
    "run_directory = os.path.join(os.getcwd(), 'test/run_dir')\n",
    "results_directory = os.path.join(os.getcwd(), 'test/run_dir/results')\n",
    "\n",
    "# import the yaml files to the run_directroy:\n",
    "copy_yaml_with_path_edit(pipeline_directory_full_path=feature_prioritization_path, \n",
    "                         run_directory=run_directory, \n",
    "                         results_directory=results_directory)"
   ]
  },
  {
   "cell_type": "code",
   "execution_count": 4,
   "metadata": {},
   "outputs": [
    {
     "name": "stdout",
     "output_type": "stream",
     "text": [
      "\tparameter sets available:\n",
      "\n",
      "BENCHMARK_2_FP_bootstrap_pearson.yml\n",
      "BENCHMARK_4_FP_bootstrap_t_test.yml\n",
      "zTEMPLATE_FP_BENCHMARKS.yml\n",
      "BENCHMARK_3_FP_t_test.yml\n",
      "TEST_2_FP_many_drugs_pearson.yml\n",
      "TEST_3_FP_single_drug_t_test.yml\n",
      "TEST_1_FP_single_drug_pearson.yml\n",
      "BENCHMARK_1_FP_pearson.yml\n",
      "TEST_4_FP_many_drugs_t_test.yml\n",
      "zPhenotype_Expander.yml\n"
     ]
    }
   ],
   "source": [
    "print('\\tparameter sets available:\\n')\n",
    "files_available = os.listdir(run_directory)\n",
    "yaml_files_available = []\n",
    "for f_name in files_available:\n",
    "    if '.yml' in f_name:\n",
    "        yaml_files_available.append(f_name)\n",
    "        print(f_name)"
   ]
  },
  {
   "cell_type": "markdown",
   "metadata": {},
   "source": [
    "## Feature Prioritization Pipeline: "
   ]
  },
  {
   "cell_type": "code",
   "execution_count": null,
   "metadata": {},
   "outputs": [],
   "source": [
    "# Select and view the parameter set for running the toolbox\n",
    "yaml_file_name = 'TEST_1_FP_single_drug_pearson.yml'\n",
    "run_parameters = kn.get_run_parameters(run_directory, yaml_file_name)\n",
    "display_run_parameters(run_parameters)"
   ]
  },
  {
   "cell_type": "code",
   "execution_count": null,
   "metadata": {},
   "outputs": [],
   "source": [
    "# View the input spreadsheet and phenotype files\n",
    "view_spreadsheet_file_head(run_parameters['spreadsheet_name_full_path'])"
   ]
  },
  {
   "cell_type": "code",
   "execution_count": null,
   "metadata": {},
   "outputs": [],
   "source": [
    "view_spreadsheet_file_head(run_parameters['phenotype_name_full_path'])"
   ]
  },
  {
   "cell_type": "code",
   "execution_count": null,
   "metadata": {},
   "outputs": [],
   "source": [
    "\"\"\"                         Run the method                                                          \"\"\"\n",
    "if run_parameters['method'] == 'correlation':\n",
    "    feature_tbx.run_correlation(run_parameters)\n",
    "elif run_parameters['method'] == 'bootstrap_correlation':\n",
    "    feature_tbx.run_bootstrap_correlation(run_parameters)"
   ]
  },
  {
   "cell_type": "code",
   "execution_count": null,
   "metadata": {},
   "outputs": [],
   "source": [
    "print('\\tOutput files:\\n')\n",
    "for f_name in os.listdir(results_directory):\n",
    "    full_f_name = os.path.join(results_directory, f_name)\n",
    "    if os.path.isfile(full_f_name):\n",
    "        print(f_name)"
   ]
  },
  {
   "cell_type": "code",
   "execution_count": null,
   "metadata": {},
   "outputs": [],
   "source": [
    "view_spreadsheet_file_head(os.path.join(\n",
    "    results_directory,\n",
    "    'drug_name_correlation_pearson_Tue_20_Mar_2018_13_29_36.379057884_viz.tsv'))"
   ]
  },
  {
   "cell_type": "code",
   "execution_count": null,
   "metadata": {},
   "outputs": [],
   "source": [
    "view_spreadsheet_file_head(os.path.join(\n",
    "    results_directory,\n",
    "    'ranked_features_per_response_correlation_pearson_Tue_20_Mar_2018_13_29_36.477760076_download.tsv'))"
   ]
  },
  {
   "cell_type": "code",
   "execution_count": null,
   "metadata": {},
   "outputs": [],
   "source": [
    "view_spreadsheet_file_head(os.path.join(\n",
    "    results_directory,\n",
    "    'ranked_features_per_response_correlation_pearson_Tue_20_Mar_2018_13_29_36.477760076_download.tsv'))"
   ]
  },
  {
   "cell_type": "code",
   "execution_count": null,
   "metadata": {},
   "outputs": [],
   "source": []
  }
 ],
 "metadata": {
  "kernelspec": {
   "display_name": "Python 3",
   "language": "python",
   "name": "python3"
  },
  "language_info": {
   "codemirror_mode": {
    "name": "ipython",
    "version": 3
   },
   "file_extension": ".py",
   "mimetype": "text/x-python",
   "name": "python",
   "nbconvert_exporter": "python",
   "pygments_lexer": "ipython3",
   "version": "3.4.3"
  }
 },
 "nbformat": 4,
 "nbformat_minor": 2
}
