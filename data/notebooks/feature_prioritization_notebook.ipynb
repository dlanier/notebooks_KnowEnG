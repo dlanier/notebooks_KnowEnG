{
 "cells": [
  {
   "cell_type": "code",
   "execution_count": 1,
   "metadata": {},
   "outputs": [],
   "source": [
    "import os\n",
    "import sys\n",
    "\n",
    "import knpackage.toolbox as kn\n",
    "\n",
    "NOTEBOOK_CLOUD = False\n",
    "if NOTEBOOK_CLOUD == True:\n",
    "    pipelines_directory = os.path.abspath('/pipelines')\n",
    "else:\n",
    "    pipelines_directory = os.path.join('../../../')\n",
    "\n",
    "# import the notebook setup utilities:\n",
    "sys.path.insert(1, os.path.join(pipelines_directory, 'notebooks_KnowEnG/src'))\n",
    "from notebooks_KnowEnG import *\n",
    "setup_test_dir(notebook_location=os.getcwd())\n",
    "\n",
    "# define the path locations for the Feature_Prioritization_Pipeline (clone in a terminal if not installed)\n",
    "\n",
    "feature_prioritization_path = os.path.join(pipelines_directory, 'Feature_Prioritization_Pipeline')\n",
    "src_files_path = os.path.join(feature_prioritization_path, 'src')\n",
    "sys.path.insert(1, src_files_path)\n",
    "import feature_prioritization_toolbox as feature_tbx\n",
    "\n",
    "spreadsheet_files_path = os.path.join(feature_prioritization_path, 'data/spreadsheets')\n",
    "network_files_path = os.path.join(feature_prioritization_path, 'data/networks')\n",
    "run_files_path = os.path.join(feature_prioritization_path, 'data/run_files')\n",
    "\n",
    "# define the path locations for running and results     WILL BE RUTHLESSLY AND CRUELLY OVERWRITTEN WITHOUT IT PITY\n",
    "run_directory = os.path.join(os.getcwd(), 'test/run_dir')\n",
    "results_directory = os.path.join(os.getcwd(), 'test/run_dir/results')\n",
    "\n",
    "# import the yaml files to the run_directroy:\n",
    "copy_yaml_with_path_edit(pipeline_directory_full_path=feature_prioritization_path, \n",
    "                         run_directory=run_directory, \n",
    "                         results_directory=results_directory)"
   ]
  },
  {
   "cell_type": "code",
   "execution_count": 2,
   "metadata": {},
   "outputs": [
    {
     "name": "stdout",
     "output_type": "stream",
     "text": [
      "\tparameter sets available:\n",
      "\n",
      "BENCHMARK_1_FP_pearson.yml\n",
      "BENCHMARK_2_FP_bootstrap_pearson.yml\n",
      "BENCHMARK_3_FP_t_test.yml\n",
      "BENCHMARK_4_FP_bootstrap_t_test.yml\n",
      "TEST_1_FP_single_drug_pearson.yml\n",
      "TEST_2_FP_many_drugs_pearson.yml\n",
      "TEST_3_FP_single_drug_t_test.yml\n",
      "TEST_4_FP_many_drugs_t_test.yml\n",
      "zPhenotype_Expander.yml\n",
      "zTEMPLATE_FP_BENCHMARKS.yml\n"
     ]
    }
   ],
   "source": [
    "print('\\tparameter sets available:\\n')\n",
    "files_available = os.listdir(run_directory)\n",
    "yaml_files_available = []\n",
    "for f_name in files_available:\n",
    "    if '.yml' in f_name:\n",
    "        yaml_files_available.append(f_name)\n",
    "        print(f_name)"
   ]
  },
  {
   "cell_type": "markdown",
   "metadata": {},
   "source": [
    "## Feature Prioritization Pipeline: "
   ]
  },
  {
   "cell_type": "code",
   "execution_count": 3,
   "metadata": {},
   "outputs": [
    {
     "name": "stdout",
     "output_type": "stream",
     "text": [
      "                 run_directory : /Users/mojo/git_clone/dlanier/notebooks_KnowEnG/test/run_dir/test/run_dir\n",
      "             results_directory : /Users/mojo/git_clone/dlanier/notebooks_KnowEnG/test/run_dir/test/run_dir/results\n",
      "    spreadsheet_name_full_path : ../../../Feature_Prioritization_Pipeline/data/spreadsheets/TEST_1_feature_sample.tsv\n",
      "              top_beta_of_sort : 2\n",
      "                      run_file : TEST_1_FP_single_drug_pearson.yml\n",
      "      phenotype_name_full_path : ../../../Feature_Prioritization_Pipeline/data/spreadsheets/TEST_1_response_pearson.tsv\n",
      "           correlation_measure : pearson\n",
      "             top_gamma_of_sort : 100\n",
      "                        method : correlation\n"
     ]
    }
   ],
   "source": [
    "# Select and view the parameter set for running the toolbox\n",
    "yaml_file_name = 'TEST_1_FP_single_drug_pearson.yml'\n",
    "run_parameters = kn.get_run_parameters(run_directory, yaml_file_name)\n",
    "display_run_parameters(run_parameters)"
   ]
  },
  {
   "cell_type": "code",
   "execution_count": 4,
   "metadata": {},
   "outputs": [
    {
     "name": "stdout",
     "output_type": "stream",
     "text": [
      "TEST_1_feature_sample.tsv  size: (7, 4)\n"
     ]
    },
    {
     "data": {
      "text/html": [
       "<div>\n",
       "<style scoped>\n",
       "    .dataframe tbody tr th:only-of-type {\n",
       "        vertical-align: middle;\n",
       "    }\n",
       "\n",
       "    .dataframe tbody tr th {\n",
       "        vertical-align: top;\n",
       "    }\n",
       "\n",
       "    .dataframe thead th {\n",
       "        text-align: right;\n",
       "    }\n",
       "</style>\n",
       "<table border=\"1\" class=\"dataframe\">\n",
       "  <thead>\n",
       "    <tr style=\"text-align: right;\">\n",
       "      <th></th>\n",
       "      <th>s1</th>\n",
       "      <th>s2</th>\n",
       "      <th>s3</th>\n",
       "      <th>s4</th>\n",
       "    </tr>\n",
       "  </thead>\n",
       "  <tbody>\n",
       "    <tr>\n",
       "      <th>g1</th>\n",
       "      <td>0</td>\n",
       "      <td>-1</td>\n",
       "      <td>1</td>\n",
       "      <td>1</td>\n",
       "    </tr>\n",
       "    <tr>\n",
       "      <th>g2</th>\n",
       "      <td>1</td>\n",
       "      <td>0</td>\n",
       "      <td>-1</td>\n",
       "      <td>1</td>\n",
       "    </tr>\n",
       "    <tr>\n",
       "      <th>g3</th>\n",
       "      <td>1</td>\n",
       "      <td>-1</td>\n",
       "      <td>0</td>\n",
       "      <td>-1</td>\n",
       "    </tr>\n",
       "    <tr>\n",
       "      <th>g4</th>\n",
       "      <td>-1</td>\n",
       "      <td>1</td>\n",
       "      <td>-1</td>\n",
       "      <td>0</td>\n",
       "    </tr>\n",
       "    <tr>\n",
       "      <th>g5</th>\n",
       "      <td>1</td>\n",
       "      <td>-1</td>\n",
       "      <td>0</td>\n",
       "      <td>-1</td>\n",
       "    </tr>\n",
       "    <tr>\n",
       "      <th>g6</th>\n",
       "      <td>1</td>\n",
       "      <td>0</td>\n",
       "      <td>-1</td>\n",
       "      <td>1</td>\n",
       "    </tr>\n",
       "    <tr>\n",
       "      <th>g7</th>\n",
       "      <td>0</td>\n",
       "      <td>-1</td>\n",
       "      <td>1</td>\n",
       "      <td>1</td>\n",
       "    </tr>\n",
       "  </tbody>\n",
       "</table>\n",
       "</div>"
      ],
      "text/plain": [
       "    s1  s2  s3  s4\n",
       "g1   0  -1   1   1\n",
       "g2   1   0  -1   1\n",
       "g3   1  -1   0  -1\n",
       "g4  -1   1  -1   0\n",
       "g5   1  -1   0  -1\n",
       "g6   1   0  -1   1\n",
       "g7   0  -1   1   1"
      ]
     },
     "metadata": {},
     "output_type": "display_data"
    }
   ],
   "source": [
    "# View the input spreadsheet and phenotype files\n",
    "view_spreadsheet_file_head(run_parameters['spreadsheet_name_full_path'])"
   ]
  },
  {
   "cell_type": "code",
   "execution_count": 5,
   "metadata": {},
   "outputs": [
    {
     "name": "stdout",
     "output_type": "stream",
     "text": [
      "TEST_1_response_pearson.tsv  size: (4, 1)\n"
     ]
    },
    {
     "data": {
      "text/html": [
       "<div>\n",
       "<style scoped>\n",
       "    .dataframe tbody tr th:only-of-type {\n",
       "        vertical-align: middle;\n",
       "    }\n",
       "\n",
       "    .dataframe tbody tr th {\n",
       "        vertical-align: top;\n",
       "    }\n",
       "\n",
       "    .dataframe thead th {\n",
       "        text-align: right;\n",
       "    }\n",
       "</style>\n",
       "<table border=\"1\" class=\"dataframe\">\n",
       "  <thead>\n",
       "    <tr style=\"text-align: right;\">\n",
       "      <th></th>\n",
       "      <th>drug_name</th>\n",
       "    </tr>\n",
       "  </thead>\n",
       "  <tbody>\n",
       "    <tr>\n",
       "      <th>s1</th>\n",
       "      <td>0.714286</td>\n",
       "    </tr>\n",
       "    <tr>\n",
       "      <th>s2</th>\n",
       "      <td>0.357143</td>\n",
       "    </tr>\n",
       "    <tr>\n",
       "      <th>s3</th>\n",
       "      <td>0.178571</td>\n",
       "    </tr>\n",
       "    <tr>\n",
       "      <th>s4</th>\n",
       "      <td>0.089286</td>\n",
       "    </tr>\n",
       "  </tbody>\n",
       "</table>\n",
       "</div>"
      ],
      "text/plain": [
       "    drug_name\n",
       "s1   0.714286\n",
       "s2   0.357143\n",
       "s3   0.178571\n",
       "s4   0.089286"
      ]
     },
     "metadata": {},
     "output_type": "display_data"
    }
   ],
   "source": [
    "view_spreadsheet_file_head(run_parameters['phenotype_name_full_path'])"
   ]
  },
  {
   "cell_type": "code",
   "execution_count": 6,
   "metadata": {},
   "outputs": [],
   "source": [
    "\"\"\"                         Run the method                                                          \"\"\"\n",
    "if run_parameters['method'] == 'correlation':\n",
    "    feature_tbx.run_correlation(run_parameters)\n",
    "elif run_parameters['method'] == 'bootstrap_correlation':\n",
    "    feature_tbx.run_bootstrap_correlation(run_parameters)"
   ]
  },
  {
   "cell_type": "code",
   "execution_count": 15,
   "metadata": {},
   "outputs": [
    {
     "name": "stdout",
     "output_type": "stream",
     "text": [
      "Output files in: /Users/mojo/git_clone/dlanier/notebooks_KnowEnG/test/run_dir/test/run_dir/results\n",
      "\n",
      "ranked_features_per_response_correlation:\n",
      "\tranked_features_per_response_correlation_pearson_Mon_26_Mar_2018_08_35_56.177772045_download.tsv\n",
      "\n",
      "drug_name_correlation:\n",
      "\tdrug_name_correlation_pearson_Mon_26_Mar_2018_08_35_56.080070018_viz.tsv\n",
      "\n",
      "top_features_per_response_correlation:\n",
      "\ttop_features_per_response_correlation_pearson_Mon_26_Mar_2018_08_35_56.179318904_download.tsv\n"
     ]
    }
   ],
   "source": [
    "print('Output files in:', results_directory)\n",
    "file_name_prefix_list = ['drug_name_correlation', \n",
    "                         'ranked_features_per_response_correlation', \n",
    "                         'top_features_per_response_correlation']\n",
    "output_dict = {}\n",
    "for f_name in os.listdir(results_directory):\n",
    "    full_f_name = os.path.join(results_directory, f_name)\n",
    "    if os.path.isfile(full_f_name):\n",
    "        for prefix in file_name_prefix_list:\n",
    "            if prefix in f_name:\n",
    "                output_dict[prefix] = f_name\n",
    "for k, v in output_dict.items():\n",
    "    print('\\n%s:\\n\\t%s'%(k,v))"
   ]
  },
  {
   "cell_type": "code",
   "execution_count": 10,
   "metadata": {},
   "outputs": [
    {
     "name": "stdout",
     "output_type": "stream",
     "text": [
      "drug_name_correlation_pearson_Mon_26_Mar_2018_08_35_56.080070018_viz.tsv  size: (7, 4)\n"
     ]
    },
    {
     "data": {
      "text/html": [
       "<div>\n",
       "<style scoped>\n",
       "    .dataframe tbody tr th:only-of-type {\n",
       "        vertical-align: middle;\n",
       "    }\n",
       "\n",
       "    .dataframe tbody tr th {\n",
       "        vertical-align: top;\n",
       "    }\n",
       "\n",
       "    .dataframe thead th {\n",
       "        text-align: right;\n",
       "    }\n",
       "</style>\n",
       "<table border=\"1\" class=\"dataframe\">\n",
       "  <thead>\n",
       "    <tr style=\"text-align: right;\">\n",
       "      <th></th>\n",
       "      <th>Feature_ID</th>\n",
       "      <th>quantitative_sorting_score</th>\n",
       "      <th>visualization_score</th>\n",
       "      <th>baseline_score</th>\n",
       "    </tr>\n",
       "    <tr>\n",
       "      <th>Response</th>\n",
       "      <th></th>\n",
       "      <th></th>\n",
       "      <th></th>\n",
       "      <th></th>\n",
       "    </tr>\n",
       "  </thead>\n",
       "  <tbody>\n",
       "    <tr>\n",
       "      <th>drug_name</th>\n",
       "      <td>g3</td>\n",
       "      <td>0.759134</td>\n",
       "      <td>1.000000</td>\n",
       "      <td>0.759134</td>\n",
       "    </tr>\n",
       "    <tr>\n",
       "      <th>drug_name</th>\n",
       "      <td>g5</td>\n",
       "      <td>0.759134</td>\n",
       "      <td>1.000000</td>\n",
       "      <td>0.759134</td>\n",
       "    </tr>\n",
       "    <tr>\n",
       "      <th>drug_name</th>\n",
       "      <td>g1</td>\n",
       "      <td>0.534205</td>\n",
       "      <td>0.555556</td>\n",
       "      <td>-0.534205</td>\n",
       "    </tr>\n",
       "    <tr>\n",
       "      <th>drug_name</th>\n",
       "      <td>g7</td>\n",
       "      <td>0.534205</td>\n",
       "      <td>0.555556</td>\n",
       "      <td>-0.534205</td>\n",
       "    </tr>\n",
       "    <tr>\n",
       "      <th>drug_name</th>\n",
       "      <td>g2</td>\n",
       "      <td>0.365509</td>\n",
       "      <td>0.222222</td>\n",
       "      <td>0.365509</td>\n",
       "    </tr>\n",
       "    <tr>\n",
       "      <th>drug_name</th>\n",
       "      <td>g6</td>\n",
       "      <td>0.365509</td>\n",
       "      <td>0.222222</td>\n",
       "      <td>0.365509</td>\n",
       "    </tr>\n",
       "    <tr>\n",
       "      <th>drug_name</th>\n",
       "      <td>g4</td>\n",
       "      <td>0.253045</td>\n",
       "      <td>0.000000</td>\n",
       "      <td>-0.253045</td>\n",
       "    </tr>\n",
       "  </tbody>\n",
       "</table>\n",
       "</div>"
      ],
      "text/plain": [
       "          Feature_ID  quantitative_sorting_score  visualization_score  \\\n",
       "Response                                                                \n",
       "drug_name         g3                    0.759134             1.000000   \n",
       "drug_name         g5                    0.759134             1.000000   \n",
       "drug_name         g1                    0.534205             0.555556   \n",
       "drug_name         g7                    0.534205             0.555556   \n",
       "drug_name         g2                    0.365509             0.222222   \n",
       "drug_name         g6                    0.365509             0.222222   \n",
       "drug_name         g4                    0.253045             0.000000   \n",
       "\n",
       "           baseline_score  \n",
       "Response                   \n",
       "drug_name        0.759134  \n",
       "drug_name        0.759134  \n",
       "drug_name       -0.534205  \n",
       "drug_name       -0.534205  \n",
       "drug_name        0.365509  \n",
       "drug_name        0.365509  \n",
       "drug_name       -0.253045  "
      ]
     },
     "metadata": {},
     "output_type": "display_data"
    }
   ],
   "source": [
    "view_spreadsheet_file_head(os.path.join(\n",
    "    results_directory, output_dict['drug_name_correlation']))"
   ]
  },
  {
   "cell_type": "code",
   "execution_count": 11,
   "metadata": {},
   "outputs": [
    {
     "name": "stdout",
     "output_type": "stream",
     "text": [
      "ranked_features_per_response_correlation_pearson_Mon_26_Mar_2018_08_35_56.177772045_download.tsv  size: (7, 1)\n"
     ]
    },
    {
     "data": {
      "text/html": [
       "<div>\n",
       "<style scoped>\n",
       "    .dataframe tbody tr th:only-of-type {\n",
       "        vertical-align: middle;\n",
       "    }\n",
       "\n",
       "    .dataframe tbody tr th {\n",
       "        vertical-align: top;\n",
       "    }\n",
       "\n",
       "    .dataframe thead th {\n",
       "        text-align: right;\n",
       "    }\n",
       "</style>\n",
       "<table border=\"1\" class=\"dataframe\">\n",
       "  <thead>\n",
       "    <tr style=\"text-align: right;\">\n",
       "      <th></th>\n",
       "      <th>drug_name</th>\n",
       "    </tr>\n",
       "  </thead>\n",
       "  <tbody>\n",
       "    <tr>\n",
       "      <th>1</th>\n",
       "      <td>g3</td>\n",
       "    </tr>\n",
       "    <tr>\n",
       "      <th>2</th>\n",
       "      <td>g5</td>\n",
       "    </tr>\n",
       "    <tr>\n",
       "      <th>3</th>\n",
       "      <td>g1</td>\n",
       "    </tr>\n",
       "    <tr>\n",
       "      <th>4</th>\n",
       "      <td>g7</td>\n",
       "    </tr>\n",
       "    <tr>\n",
       "      <th>5</th>\n",
       "      <td>g2</td>\n",
       "    </tr>\n",
       "    <tr>\n",
       "      <th>6</th>\n",
       "      <td>g6</td>\n",
       "    </tr>\n",
       "    <tr>\n",
       "      <th>7</th>\n",
       "      <td>g4</td>\n",
       "    </tr>\n",
       "  </tbody>\n",
       "</table>\n",
       "</div>"
      ],
      "text/plain": [
       "  drug_name\n",
       "1        g3\n",
       "2        g5\n",
       "3        g1\n",
       "4        g7\n",
       "5        g2\n",
       "6        g6\n",
       "7        g4"
      ]
     },
     "metadata": {},
     "output_type": "display_data"
    }
   ],
   "source": [
    "view_spreadsheet_file_head(os.path.join(\n",
    "    results_directory, output_dict['ranked_features_per_response_correlation']))"
   ]
  },
  {
   "cell_type": "code",
   "execution_count": 12,
   "metadata": {},
   "outputs": [
    {
     "name": "stdout",
     "output_type": "stream",
     "text": [
      "top_features_per_response_correlation_pearson_Mon_26_Mar_2018_08_35_56.179318904_download.tsv  size: (7, 1)\n"
     ]
    },
    {
     "data": {
      "text/html": [
       "<div>\n",
       "<style scoped>\n",
       "    .dataframe tbody tr th:only-of-type {\n",
       "        vertical-align: middle;\n",
       "    }\n",
       "\n",
       "    .dataframe tbody tr th {\n",
       "        vertical-align: top;\n",
       "    }\n",
       "\n",
       "    .dataframe thead th {\n",
       "        text-align: right;\n",
       "    }\n",
       "</style>\n",
       "<table border=\"1\" class=\"dataframe\">\n",
       "  <thead>\n",
       "    <tr style=\"text-align: right;\">\n",
       "      <th></th>\n",
       "      <th>drug_name</th>\n",
       "    </tr>\n",
       "  </thead>\n",
       "  <tbody>\n",
       "    <tr>\n",
       "      <th>g1</th>\n",
       "      <td>1</td>\n",
       "    </tr>\n",
       "    <tr>\n",
       "      <th>g2</th>\n",
       "      <td>1</td>\n",
       "    </tr>\n",
       "    <tr>\n",
       "      <th>g3</th>\n",
       "      <td>1</td>\n",
       "    </tr>\n",
       "    <tr>\n",
       "      <th>g4</th>\n",
       "      <td>1</td>\n",
       "    </tr>\n",
       "    <tr>\n",
       "      <th>g5</th>\n",
       "      <td>1</td>\n",
       "    </tr>\n",
       "    <tr>\n",
       "      <th>g6</th>\n",
       "      <td>1</td>\n",
       "    </tr>\n",
       "    <tr>\n",
       "      <th>g7</th>\n",
       "      <td>1</td>\n",
       "    </tr>\n",
       "  </tbody>\n",
       "</table>\n",
       "</div>"
      ],
      "text/plain": [
       "    drug_name\n",
       "g1          1\n",
       "g2          1\n",
       "g3          1\n",
       "g4          1\n",
       "g5          1\n",
       "g6          1\n",
       "g7          1"
      ]
     },
     "metadata": {},
     "output_type": "display_data"
    }
   ],
   "source": [
    "view_spreadsheet_file_head(os.path.join(\n",
    "    results_directory, output_dict['top_features_per_response_correlation']))"
   ]
  },
  {
   "cell_type": "code",
   "execution_count": null,
   "metadata": {},
   "outputs": [],
   "source": []
  }
 ],
 "metadata": {
  "kernelspec": {
   "display_name": "Python 3",
   "language": "python",
   "name": "python3"
  },
  "language_info": {
   "codemirror_mode": {
    "name": "ipython",
    "version": 3
   },
   "file_extension": ".py",
   "mimetype": "text/x-python",
   "name": "python",
   "nbconvert_exporter": "python",
   "pygments_lexer": "ipython3",
   "version": "3.5.2"
  }
 },
 "nbformat": 4,
 "nbformat_minor": 2
}
