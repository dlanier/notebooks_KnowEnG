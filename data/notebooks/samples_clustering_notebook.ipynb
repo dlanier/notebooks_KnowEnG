{
 "cells": [
  {
   "cell_type": "markdown",
   "metadata": {},
   "source": [
    "### Other Samples Clustering Pipeline input data\n",
    "\n",
    "| File Name |  Option |\n",
    "|---|---|\n",
    "|BENCHMARK_1_SC_nmf.yml   | (clustering with nmf)  |\n",
    "|BENCHMARK_3_SC_cc_nmf_serial.yml   | (consensus clustering with nmf)  |\n",
    "|BENCHMARK_4_SC_cc_nmf_parallel_shared.yml   | (paralell consensus clustering with nmf)  |\n",
    "|BENCHMARK_5_SC_cc_nmf_parallel_distributed.yml   | (distributed paralell consensus clustering with nmf)  |\n",
    "|BENCHMARK_2_SC_net_nmf.yml   | (clustering with network regularized nmf)  |\n",
    "|BENCHMARK_6_SC_cc_net_nmf_serial.yml   | (consensus clustering with network regularized nmf)  |\n",
    "|BENCHMARK_7_SC_cc_net_nmf_parallel_shared.yml   | (paralell consensus clustering with network regularized nmf)  |\n",
    "|BENCHMARK_8_SC_cc_net_nmf_parallel_distributed.yml   | (distributed paralell consensus clustering with network regularized nmf)  |"
   ]
  },
  {
   "cell_type": "code",
   "execution_count": 1,
   "metadata": {
    "collapsed": true
   },
   "outputs": [],
   "source": [
    "import os\n",
    "import sys\n",
    "import knpackage.toolbox as kn\n",
    "sys.path.insert(1, '../src')\n",
    "import sample_clustering_toolbox as samples_tbx\n",
    "\n",
    "\"\"\"                         Select a run_parameters .yml file                                       \"\"\"\n",
    "run_directory = os.path.abspath('./run_dir')\n",
    "yaml_file_name = 'BENCHMARK_1_SC_nmf.yml'                                   \n",
    "run_parameters = kn.get_run_parameters(run_directory, yaml_file_name)\n",
    "\n",
    "\"\"\"                         Run the method                                                          \"\"\"\n",
    "if run_parameters['method'] == 'nmf':\n",
    "    samples_tbx.run_nmf(run_parameters)\n",
    "elif run_parameters['method'] == 'cc_nmf':\n",
    "    samples_tbx.run_cc_nmf(run_parameters)\n",
    "elif run_parameters['method'] == 'net_nmf':\n",
    "    samples_tbxrun_net_nmf(run_parameters)\n",
    "elif run_parameters['method'] == 'cc_net_nmf':\n",
    "    samples_tbx.run_cc_net_nmf(run_parameters)"
   ]
  },
  {
   "cell_type": "code",
   "execution_count": null,
   "metadata": {
    "collapsed": true
   },
   "outputs": [],
   "source": []
  }
 ],
 "metadata": {
  "kernelspec": {
   "display_name": "Python 3",
   "language": "python",
   "name": "python3"
  },
  "language_info": {
   "codemirror_mode": {
    "name": "ipython",
    "version": 3
   },
   "file_extension": ".py",
   "mimetype": "text/x-python",
   "name": "python",
   "nbconvert_exporter": "python",
   "pygments_lexer": "ipython3",
   "version": "3.5.3"
  }
 },
 "nbformat": 4,
 "nbformat_minor": 2
}
