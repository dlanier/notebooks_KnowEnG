{
 "cells": [
  {
   "cell_type": "markdown",
   "metadata": {},
   "source": [
    "### Other Gene Prioritization Pipeline input data\n",
    "\n",
    "| File Name |  Option |\n",
    "|---|---|\n",
    "|zTEMPLATE_GP_BENCHMARKS.yml | (bootstrap_net_correlation)  |\n",
    "|BENCHMARK_1_GP_pearson.yml   | (pearson correlation)  |\n",
    "|BENCHMARK_2_GP_bootstrap_pearson.yml   | (bootstrap sampling with pearson correlation)  |\n",
    "|BENCHMARK_3_GP_net_pearson.yml   | (pearson correlation with network regularization)  |\n",
    "|BENCHMARK_4_GP_bootstrap_net_pearson.yml   | (bootstrap pearson correlation with network regularization)  |\n",
    "|BENCHMARK_5_GP_t_test.yml   | (t-test correlation)  |\n",
    "|BENCHMARK_6_GP_bootstrap_t_test.yml   | (bootstrap sampling with t-test correlation)  |\n",
    "|BENCHMARK_7_GP_net_t_test.yml   | (t-test correlation with network regularization)  |\n",
    "|BENCHMARK_8_GP_bootstrap_net_t_test.yml   | (bootstrap t-test correlation with network regularization)  |\n",
    "|TEST_1_GP_single_drug_pearson.yml   | (pearson correlation)  |\n",
    "|TEST_2_GP_many_drugs_pearson.yml   | (pearson correlation)  |\n",
    "|TEST_3_GP_single_drug_t_test.yml   | (t-test correlation)  |\n",
    "|TEST_4_GP_many_drugs_t_test.yml   | (t-test correlation)  |"
   ]
  },
  {
   "cell_type": "code",
   "execution_count": null,
   "metadata": {
    "collapsed": true
   },
   "outputs": [],
   "source": [
    "import os\n",
    "import sys\n",
    "\n",
    "import knpackage.toolbox as kn\n",
    "sys.path.insert(1, '../src')\n",
    "import gene_prioritization_toolbox as gene_prioritization_tbx\n",
    "\n",
    "\"\"\"                         Select a run_parameters .yml file                                       \"\"\"\n",
    "run_directory = os.path.abspath('./run_dir')\n",
    "yaml_file_name = 'BENCHMARK_8_GP_bootstrap_net_t_test.yml'\n",
    "                                   \n",
    "run_parameters = kn.get_run_parameters(run_directory, yaml_file_name)\n",
    "\n",
    "\"\"\"                         Run the method                                                          \"\"\"\n",
    "if run_parameters['method'] == 'correlation':\n",
    "    gene_prioritization_tbx.run_correlation(run_parameters)\n",
    "elif run_parameters['method'] == 'net_correlation':\n",
    "    gene_prioritization_tbx.run_net_correlation(run_parameters)\n",
    "elif run_parameters['method'] == 'bootstrap_correlation':\n",
    "    gene_prioritization_tbx.run_bootstrap_correlation(run_parameters)\n",
    "elif run_parameters['method'] == 'bootstrap_net_correlation':\n",
    "    gene_prioritization_tbx.run_bootstrap_net_correlation(run_parameters)"
   ]
  },
  {
   "cell_type": "code",
   "execution_count": null,
   "metadata": {
    "collapsed": true
   },
   "outputs": [],
   "source": []
  }
 ],
 "metadata": {
  "kernelspec": {
   "display_name": "Python 3",
   "language": "python",
   "name": "python3"
  },
  "language_info": {
   "codemirror_mode": {
    "name": "ipython",
    "version": 3
   },
   "file_extension": ".py",
   "mimetype": "text/x-python",
   "name": "python",
   "nbconvert_exporter": "python",
   "pygments_lexer": "ipython3",
   "version": "3.5.2"
  }
 },
 "nbformat": 4,
 "nbformat_minor": 2
}
