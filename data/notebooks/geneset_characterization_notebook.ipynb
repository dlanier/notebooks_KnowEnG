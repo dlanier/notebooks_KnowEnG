{
 "cells": [
  {
   "cell_type": "markdown",
   "metadata": {},
   "source": [
    "### Other GeneSet Characterization Pipeline input data\n",
    "\n",
    "| File Name |  Option |\n",
    "|---|---|\n",
    "|BENCHMARK_1_fisher.yml   | (Fisher exact test)  |\n",
    "|BENCHMARK_2_DRaWR.yml   | (Discriminative Random Walks with Restart)  |\n",
    "|BENCHMARK_3_net_path.yml   | (Net Path)  |"
   ]
  },
  {
   "cell_type": "code",
   "execution_count": null,
   "metadata": {},
   "outputs": [],
   "source": [
    "import os\n",
    "import sys\n",
    "import knpackage.toolbox as kn\n",
    "sys.path.insert(1, '../src')\n",
    "import geneset_characterization_toolbox as geneset_char_tbx\n",
    "\n",
    "\"\"\"                         Select a run_parameters .yml file                                       \"\"\"\n",
    "run_directory = os.path.abspath('./run_dir')\n",
    "yaml_file_name = 'BENCHMARK_2_DRaWR.yml'\n",
    "run_parameters = kn.get_run_parameters(run_directory, yaml_file_name)\n",
    "\n",
    "\"\"\"                         Run the method                                                          \"\"\"\n",
    "if run_parameters['method'] == 'fisher':\n",
    "    geneset_char_tbx.run_fisher(run_parameters)\n",
    "elif run_parameters['method'] == 'DRaWR':\n",
    "    geneset_char_tbx.run_DRaWR(run_parameters)\n",
    "elif run_parameters['method'] == 'net_path':\n",
    "    geneset_char_tbx.run_net_path(run_parameters)"
   ]
  },
  {
   "cell_type": "code",
   "execution_count": null,
   "metadata": {},
   "outputs": [],
   "source": []
  }
 ],
 "metadata": {
  "kernelspec": {
   "display_name": "Python 3",
   "language": "python",
   "name": "python3"
  },
  "language_info": {
   "codemirror_mode": {
    "name": "ipython",
    "version": 3
   },
   "file_extension": ".py",
   "mimetype": "text/x-python",
   "name": "python",
   "nbconvert_exporter": "python",
   "pygments_lexer": "ipython3",
   "version": "3.5.2"
  }
 },
 "nbformat": 4,
 "nbformat_minor": 2
}
