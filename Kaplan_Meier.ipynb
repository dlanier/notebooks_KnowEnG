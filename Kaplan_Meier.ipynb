{
 "cells": [
  {
   "cell_type": "code",
   "execution_count": 3,
   "metadata": {},
   "outputs": [
    {
     "data": {
      "text/html": [
       "<style>div.input{display:none} div.output_stderr{display:none}</style>"
      ],
      "text/plain": [
       "<IPython.core.display.HTML object>"
      ]
     },
     "metadata": {},
     "output_type": "display_data"
    }
   ],
   "source": [
    "%%html\n",
    "<style>div.input{display:none} div.output_stderr{display:none}</style>"
   ]
  },
  {
   "cell_type": "markdown",
   "metadata": {},
   "source": [
    "# Kaplan-Meier\n",
    "[notebooks_KnowEnG - Readme.md on Github](https://github.com/dlanier/notebooks_KnowEnG/blob/master/docs/Kaplan_Meier.md)"
   ]
  },
  {
   "cell_type": "code",
   "execution_count": 4,
   "metadata": {},
   "outputs": [
    {
     "data": {
      "application/vnd.jupyter.widget-view+json": {
       "model_id": "fae3137987064a7cac4a6496bf94a6ec",
       "version_major": 2,
       "version_minor": 0
      },
      "text/html": [
       "<p>Failed to display Jupyter Widget of type <code>Box</code>.</p>\n",
       "<p>\n",
       "  If you're reading this message in Jupyter Notebook or JupyterLab, it may mean\n",
       "  that the widgets JavaScript is still loading. If this message persists, it\n",
       "  likely means that the widgets JavaScript library is either not installed or\n",
       "  not enabled. See the <a href=\"https://ipywidgets.readthedocs.io/en/stable/user_install.html\">Jupyter\n",
       "  Widgets Documentation</a> for setup instructions.\n",
       "</p>\n",
       "<p>\n",
       "  If you're reading this message in another notebook frontend (for example, a static\n",
       "  rendering on GitHub or <a href=\"https://nbviewer.jupyter.org/\">NBViewer</a>),\n",
       "  it may mean that your frontend doesn't currently support widgets.\n",
       "</p>\n"
      ],
      "text/plain": [
       "Box(children=(Dropdown(index=7, layout=Layout(width='50%'), options=('average_labels.tsv', 'average_spreadsheet.tsv', 'descriptive_statistic_spreadsheet.tsv', 'Hsap.nbs_OV.G.gene_som_mut.binary.a.df', 'Hsap.nbs_UCEC.G.gene_som_mut.binary.a.df', 'intersect_spreadsheet_A.tsv', 'intersect_spreadsheet_B.tsv', 'Kaplan_Meijer_data.tsv', 'merge_spreadsheet_A.txt', 'merge_spreadsheet_B.txt', 'other_transforms_spreadsheet.tsv', 'select_phenotype_phenotype.txt', 'select_phenotype_spreadsheet.df', 'select_rows_list.txt', 'select_rows_spreadsheet.tsv', 'transpose_spreadsheet.tsv', 'View == Update List'), value='Kaplan_Meijer_data.tsv'), Button(description='View', style=ButtonStyle(), tooltip='visualize selected file')), layout=Layout(align_items='stretch', border='none', display='inline-flex', flex_flow='row', justify_content='space-between', width='100%'))"
      ]
     },
     "metadata": {},
     "output_type": "display_data"
    },
    {
     "data": {
      "application/vnd.jupyter.widget-view+json": {
       "model_id": "b39455a728c1483c9341a6882229f760",
       "version_major": 2,
       "version_minor": 0
      },
      "text/html": [
       "<p>Failed to display Jupyter Widget of type <code>HTML</code>.</p>\n",
       "<p>\n",
       "  If you're reading this message in Jupyter Notebook or JupyterLab, it may mean\n",
       "  that the widgets JavaScript is still loading. If this message persists, it\n",
       "  likely means that the widgets JavaScript library is either not installed or\n",
       "  not enabled. See the <a href=\"https://ipywidgets.readthedocs.io/en/stable/user_install.html\">Jupyter\n",
       "  Widgets Documentation</a> for setup instructions.\n",
       "</p>\n",
       "<p>\n",
       "  If you're reading this message in another notebook frontend (for example, a static\n",
       "  rendering on GitHub or <a href=\"https://nbviewer.jupyter.org/\">NBViewer</a>),\n",
       "  it may mean that your frontend doesn't currently support widgets.\n",
       "</p>\n"
      ],
      "text/plain": [
       "HTML(value='')"
      ]
     },
     "metadata": {},
     "output_type": "display_data"
    },
    {
     "data": {
      "application/vnd.jupyter.widget-view+json": {
       "model_id": "722369127e7f4f0e98296caba637e5b0",
       "version_major": 2,
       "version_minor": 0
      },
      "text/html": [
       "<p>Failed to display Jupyter Widget of type <code>HBox</code>.</p>\n",
       "<p>\n",
       "  If you're reading this message in Jupyter Notebook or JupyterLab, it may mean\n",
       "  that the widgets JavaScript is still loading. If this message persists, it\n",
       "  likely means that the widgets JavaScript library is either not installed or\n",
       "  not enabled. See the <a href=\"https://ipywidgets.readthedocs.io/en/stable/user_install.html\">Jupyter\n",
       "  Widgets Documentation</a> for setup instructions.\n",
       "</p>\n",
       "<p>\n",
       "  If you're reading this message in another notebook frontend (for example, a static\n",
       "  rendering on GitHub or <a href=\"https://nbviewer.jupyter.org/\">NBViewer</a>),\n",
       "  it may mean that your frontend doesn't currently support widgets.\n",
       "</p>\n"
      ],
      "text/plain": [
       "HBox(children=(VBox(children=(Dropdown(description='Cluster_ID', options=('ClusterID', 'eomthsdicunpal', 'event', 'mehpalctunisod', 'mupacnodtliseh', 'ntolihpsdeacmu', 'pdiuhascltnoem', 'seahiocndtlpum', 'sihnmldoepcaut', 'snauhdplotcmei', 'time', 'ulmsicpdnthaeo', 'utohdasipcnlme'), value='ClusterID'), Dropdown(description='event', index=2, options=('ClusterID', 'eomthsdicunpal', 'event', 'mehpalctunisod', 'mupacnodtliseh', 'ntolihpsdeacmu', 'pdiuhascltnoem', 'seahiocndtlpum', 'sihnmldoepcaut', 'snauhdplotcmei', 'time', 'ulmsicpdnthaeo', 'utohdasipcnlme'), value='event'), Dropdown(description='time', index=10, options=('ClusterID', 'eomthsdicunpal', 'event', 'mehpalctunisod', 'mupacnodtliseh', 'ntolihpsdeacmu', 'pdiuhascltnoem', 'seahiocndtlpum', 'sihnmldoepcaut', 'snauhdplotcmei', 'time', 'ulmsicpdnthaeo', 'utohdasipcnlme'), value='time'))),), layout=Layout(display='flex', flex_flow='row', justify_content='flex-start', width='100%'))"
      ]
     },
     "metadata": {},
     "output_type": "display_data"
    }
   ],
   "source": [
    "%pylab notebook\n",
    "import pylab\n",
    "\n",
    "from   IPython.display import clear_output\n",
    "from   lifelines import KaplanMeierFitter\n",
    "from   lifelines.statistics import multivariate_logrank_test\n",
    "\n",
    "from   knpackage import toolbox as kn\n",
    "sys.path.insert(1, '../notebooks_KnowEnG/src')\n",
    "from   layout_notebooks import *\n",
    "\n",
    "results_dir = USER_RESULTS_DIRECTORY\n",
    "input_data_dir = USER_DATA_DIRECTORY\n",
    "clear_output()\n",
    "\n",
    "get_km_file_button              = get_select_view_file_button_set(input_data_dir)\n",
    "\n",
    "DEFAULT_DATA_FILE = 'Kaplan_Meijer_data.tsv'\n",
    "DEFAULT_OUTPUT_FILE_NAME = 'Kaplan_Meier_Plot.png'\n",
    "def reset_phenotype_cols_list(change):\n",
    "    \"\"\" update the phenotype id options and select the first one in phenotype_id_listbox, and...\n",
    "        update the category_select_listbox options and select the first\n",
    "    \"\"\"\n",
    "    if get_km_file_button.file_selector.value == LIST_BOX_UPDATE_MESSAGE:\n",
    "        if get_km_file_button.description == 'Clear':\n",
    "            get_km_file_button.view_box.value = ''\n",
    "            get_km_file_button.view_box.description = ''\n",
    "            get_km_file_button.description = 'View'\n",
    "        refresh_files_list(get_km_file_button)\n",
    "\n",
    "        return\n",
    "    options_df = kn.get_spreadsheet_df(os.path.join(input_data_dir, get_km_file_button.file_selector.value))\n",
    "    sorted_options_list = sorted(list(options_df.columns.values))\n",
    "    if len(sorted_options_list) > 0:\n",
    "        def_val = sorted_options_list[0]\n",
    "    else:\n",
    "        def_val = ''\n",
    "    cluster_id_listbox.options = sorted_options_list\n",
    "    cluster_id_listbox.value = def_val\n",
    "    event_id_listbox.options = sorted_options_list\n",
    "    event_id_listbox.value = def_val\n",
    "    time_id_listbox.options = sorted_options_list\n",
    "    time_id_listbox.value = def_val\n",
    "\n",
    "\"\"\" - the first shows the list of phenotype ids COUPLED TO the phenotype file selection \"\"\"\n",
    "cluster_id_listbox = widgets.Dropdown(options=[''],\n",
    "                                        value='',\n",
    "                                        description='Cluster_ID')\n",
    "\n",
    "event_id_listbox = widgets.Dropdown(options=[''],\n",
    "                                        value='',\n",
    "                                        description='event')\n",
    "\n",
    "time_id_listbox = widgets.Dropdown(options=[''],\n",
    "                                        value='',\n",
    "                                        description='time')\n",
    "\n",
    "get_km_file_button.file_selector.observe(reset_phenotype_cols_list, names='value')\n",
    "\n",
    "def disp_kaplan_meier(phenotype_df, cluster_id_name, event_name, time_name, button):\n",
    "    T = phenotype_df[time_name]\n",
    "    C = phenotype_df[event_name]\n",
    "    \n",
    "    results = multivariate_logrank_test(T, phenotype_df[cluster_id_name], C, alpha=0.99)\n",
    "    p_value_string = '\\n\\t multivariate_logrank_test\\np_value %g'%(results.p_value)\n",
    "    button.view_box.value = p_value_string\n",
    "    \n",
    "    Clusters     = sorted(phenotype_df[cluster_id_name].unique())\n",
    "    num_clusters = len(Clusters)\n",
    "    \n",
    "    figsize(12,6)\n",
    "    ax     = subplot(111)\n",
    "    \n",
    "    ytitle = event_name\n",
    "    xtitle = time_name\n",
    "\n",
    "    kmf = KaplanMeierFitter()\n",
    "    for cluster in Clusters:\n",
    "        ixc = phenotype_df[cluster_id_name] == cluster\n",
    "        kmf.fit ( T.ix[ixc], C.ix[ixc]         , label=cluster+1 )\n",
    "        kmf.plot( ax=ax    , show_censors=True, ci_show=False    )\n",
    "\n",
    "    plt.title ('number of clusters = %s' %(num_clusters))\n",
    "    plt.xlabel('Time (days)'                            )\n",
    "    plt.ylabel('OS'                                     )\n",
    "    pylab.savefig(os.path.join(results_dir, DEFAULT_OUTPUT_FILE_NAME))\n",
    "    \n",
    "def run_kaplan_meier(button):\n",
    "    \"\"\" callback for kaplan_meier_execute_button \"\"\"\n",
    "    if get_km_file_button.file_selector.value == LIST_BOX_UPDATE_MESSAGE:\n",
    "        if get_km_file_button.description == 'Clear':\n",
    "            get_km_file_button.view_box.value = ''\n",
    "            get_km_file_button.view_box.description = ''\n",
    "            get_km_file_button.description = 'View'\n",
    "        refresh_files_list(get_km_file_button)\n",
    "        \n",
    "        return\n",
    "    \n",
    "    if button.description == 'Clear':\n",
    "        button.description = button.original_description\n",
    "        button.view_box.value = ''\n",
    "        plt.clf()\n",
    "        return\n",
    "    else:\n",
    "        button.description = 'Clear'\n",
    "        \n",
    "    phenotype_df = kn.get_spreadsheet_df(os.path.join(input_data_dir, get_km_file_button.file_selector.value))\n",
    "    cluster_id_name = button.cluster_id_listbox.value\n",
    "    event_name = button.event_id_listbox.value\n",
    "    time_name = button.time_id_listbox.value\n",
    "\n",
    "    disp_kaplan_meier(phenotype_df, cluster_id_name, event_name, time_name, button)\n",
    "\n",
    "kaplan_meier_execute_button     = get_single_file_execute_button(\n",
    "                                    input_data_dir, \n",
    "                                    results_dir, \n",
    "                                    file_selector=get_km_file_button.file_selector, \n",
    "                                    button_name='Plot',\n",
    "                                    )\n",
    "kaplan_meier_execute_button.original_description = kaplan_meier_execute_button.description\n",
    "kaplan_meier_execute_button.view_box = get_view_box()\n",
    "kaplan_meier_execute_button.cluster_id_listbox = cluster_id_listbox\n",
    "kaplan_meier_execute_button.event_id_listbox = event_id_listbox\n",
    "kaplan_meier_execute_button.time_id_listbox = time_id_listbox\n",
    "\n",
    "if os.path.isfile(os.path.join(input_data_dir, DEFAULT_DATA_FILE)):\n",
    "    get_km_file_button.file_selector.value = DEFAULT_DATA_FILE\n",
    "    reset_phenotype_cols_list('de nada')\n",
    "    kaplan_meier_execute_button.cluster_id_listbox.value = 'ClusterID'\n",
    "    kaplan_meier_execute_button.event_id_listbox.value = 'event'\n",
    "    kaplan_meier_execute_button.time_id_listbox.value = 'time'\n",
    "    \n",
    "kaplan_meier_execute_button.on_click(run_kaplan_meier)\n",
    "\n",
    "# display control widgets\n",
    "show_select_view_button(get_km_file_button)\n",
    "show_widget_left(widgets.VBox([cluster_id_listbox,\n",
    "                         event_id_listbox,\n",
    "                         time_id_listbox,\n",
    "                        ]))"
   ]
  },
  {
   "cell_type": "code",
   "execution_count": 5,
   "metadata": {},
   "outputs": [
    {
     "data": {
      "application/vnd.jupyter.widget-view+json": {
       "model_id": "54ff0fc9f88941f9921c69d293576213",
       "version_major": 2,
       "version_minor": 0
      },
      "text/html": [
       "<p>Failed to display Jupyter Widget of type <code>HBox</code>.</p>\n",
       "<p>\n",
       "  If you're reading this message in Jupyter Notebook or JupyterLab, it may mean\n",
       "  that the widgets JavaScript is still loading. If this message persists, it\n",
       "  likely means that the widgets JavaScript library is either not installed or\n",
       "  not enabled. See the <a href=\"https://ipywidgets.readthedocs.io/en/stable/user_install.html\">Jupyter\n",
       "  Widgets Documentation</a> for setup instructions.\n",
       "</p>\n",
       "<p>\n",
       "  If you're reading this message in another notebook frontend (for example, a static\n",
       "  rendering on GitHub or <a href=\"https://nbviewer.jupyter.org/\">NBViewer</a>),\n",
       "  it may mean that your frontend doesn't currently support widgets.\n",
       "</p>\n"
      ],
      "text/plain": [
       "HBox(children=(Button(description='Plot', style=ButtonStyle(), tooltip='execute selected file'),), layout=Layout(display='flex', flex_flow='row', justify_content='flex-end', width='100%'))"
      ]
     },
     "metadata": {},
     "output_type": "display_data"
    },
    {
     "data": {
      "application/vnd.jupyter.widget-view+json": {
       "model_id": "bfd4d6978a304db8bc9e3fda37141d47",
       "version_major": 2,
       "version_minor": 0
      },
      "text/html": [
       "<p>Failed to display Jupyter Widget of type <code>HTML</code>.</p>\n",
       "<p>\n",
       "  If you're reading this message in Jupyter Notebook or JupyterLab, it may mean\n",
       "  that the widgets JavaScript is still loading. If this message persists, it\n",
       "  likely means that the widgets JavaScript library is either not installed or\n",
       "  not enabled. See the <a href=\"https://ipywidgets.readthedocs.io/en/stable/user_install.html\">Jupyter\n",
       "  Widgets Documentation</a> for setup instructions.\n",
       "</p>\n",
       "<p>\n",
       "  If you're reading this message in another notebook frontend (for example, a static\n",
       "  rendering on GitHub or <a href=\"https://nbviewer.jupyter.org/\">NBViewer</a>),\n",
       "  it may mean that your frontend doesn't currently support widgets.\n",
       "</p>\n"
      ],
      "text/plain": [
       "HTML(value='')"
      ]
     },
     "metadata": {},
     "output_type": "display_data"
    }
   ],
   "source": [
    "show_execute_button(kaplan_meier_execute_button)"
   ]
  },
  {
   "cell_type": "code",
   "execution_count": null,
   "metadata": {},
   "outputs": [],
   "source": []
  }
 ],
 "metadata": {
  "kernelspec": {
   "display_name": "Python 3",
   "language": "python",
   "name": "python3"
  },
  "language_info": {
   "codemirror_mode": {
    "name": "ipython",
    "version": 3
   },
   "file_extension": ".py",
   "mimetype": "text/x-python",
   "name": "python",
   "nbconvert_exporter": "python",
   "pygments_lexer": "ipython3",
   "version": "3.5.3"
  }
 },
 "nbformat": 4,
 "nbformat_minor": 2
}
